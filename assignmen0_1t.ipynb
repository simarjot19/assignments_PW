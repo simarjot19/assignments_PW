{
 "cells": [
  {
   "cell_type": "code",
   "execution_count": 41,
   "id": "591c1505-42b0-4f67-aca3-7abd3f4d9339",
   "metadata": {},
   "outputs": [],
   "source": [
    "#Q1. Create one variable containing following type of data:"
   ]
  },
  {
   "cell_type": "code",
   "execution_count": 42,
   "id": "da7d0c56-476e-4c48-85a4-2b2f007d5005",
   "metadata": {},
   "outputs": [],
   "source": [
    "#(i) string"
   ]
  },
  {
   "cell_type": "code",
   "execution_count": 3,
   "id": "3bf78b9b-5274-43a0-9d70-0c5325f31399",
   "metadata": {},
   "outputs": [],
   "source": [
    "a='simar'"
   ]
  },
  {
   "cell_type": "code",
   "execution_count": 4,
   "id": "b4dc7d12-cb15-4c39-b5e7-06235661c3aa",
   "metadata": {},
   "outputs": [
    {
     "data": {
      "text/plain": [
       "str"
      ]
     },
     "execution_count": 4,
     "metadata": {},
     "output_type": "execute_result"
    }
   ],
   "source": [
    "type(a)"
   ]
  },
  {
   "cell_type": "code",
   "execution_count": 43,
   "id": "c807ec0b-5c5d-42ce-9c02-ab15bcf6f600",
   "metadata": {},
   "outputs": [],
   "source": [
    "#(ii) list"
   ]
  },
  {
   "cell_type": "code",
   "execution_count": 5,
   "id": "e6d6cde4-8044-4abf-a2cb-86948a0b8116",
   "metadata": {},
   "outputs": [],
   "source": [
    "a=['hello',1.2,3,True,3j+7]"
   ]
  },
  {
   "cell_type": "code",
   "execution_count": 6,
   "id": "31bf019a-65f5-4588-aeb2-64516bb38459",
   "metadata": {},
   "outputs": [
    {
     "data": {
      "text/plain": [
       "list"
      ]
     },
     "execution_count": 6,
     "metadata": {},
     "output_type": "execute_result"
    }
   ],
   "source": [
    "type(a)"
   ]
  },
  {
   "cell_type": "code",
   "execution_count": 60,
   "id": "1a6f6661-8c02-474b-a0bb-eaa7d1526b17",
   "metadata": {},
   "outputs": [],
   "source": [
    "#(iii) float"
   ]
  },
  {
   "cell_type": "code",
   "execution_count": 7,
   "id": "ad21eeb8-6cec-4ad8-9ea3-098ffb9b39bb",
   "metadata": {},
   "outputs": [],
   "source": [
    "a=3.0"
   ]
  },
  {
   "cell_type": "code",
   "execution_count": 8,
   "id": "765e5f03-c8dc-4b8e-90ca-2285467e5fd5",
   "metadata": {},
   "outputs": [
    {
     "data": {
      "text/plain": [
       "float"
      ]
     },
     "execution_count": 8,
     "metadata": {},
     "output_type": "execute_result"
    }
   ],
   "source": [
    "type(a)"
   ]
  },
  {
   "cell_type": "code",
   "execution_count": 59,
   "id": "77693b9d-0358-4448-9a86-6f9062671f9a",
   "metadata": {},
   "outputs": [],
   "source": [
    "#(iv) tuple"
   ]
  },
  {
   "cell_type": "code",
   "execution_count": 9,
   "id": "6883e53a-d711-4a00-ae2e-e1beda0e02aa",
   "metadata": {},
   "outputs": [],
   "source": [
    "a=('p','w',1)"
   ]
  },
  {
   "cell_type": "code",
   "execution_count": 11,
   "id": "6e012b67-33f1-4ebb-897f-3b90c2f2c489",
   "metadata": {},
   "outputs": [
    {
     "data": {
      "text/plain": [
       "tuple"
      ]
     },
     "execution_count": 11,
     "metadata": {},
     "output_type": "execute_result"
    }
   ],
   "source": [
    "type(a)"
   ]
  },
  {
   "cell_type": "code",
   "execution_count": 57,
   "id": "c1b4c23d-6352-4b40-b5e7-d4ec8a1fe1c2",
   "metadata": {},
   "outputs": [],
   "source": [
    "#Q2. Given are some following variables containing data:\n",
    "#(i) var1 = ‘ ‘\n",
    "#(ii) var2 = ‘[ DS , ML , Python]’\n",
    "#(iii) var3 = [ ‘DS’ , ’ML’ , ‘Python’ ]\n",
    "#(iv) var4 = 1.\n",
    "#What will be the data type of the above given variable."
   ]
  },
  {
   "cell_type": "code",
   "execution_count": 58,
   "id": "41d6739c-bd58-4cef-9237-dc74f9cb7442",
   "metadata": {},
   "outputs": [],
   "source": [
    "#(i) type(var1) = string\n",
    "#(ii) type(var2) = string\n",
    "#(iii) type(var3) = list\n",
    "#(iv) type(var4) = float"
   ]
  },
  {
   "cell_type": "code",
   "execution_count": 55,
   "id": "0e73edb1-7b9a-436c-af8c-b9e8294b19af",
   "metadata": {},
   "outputs": [],
   "source": [
    "#Q3. Explain the use of the following operators using an example:\n",
    "#(i) /\n",
    "#(ii) %\n",
    "#(iii) //\n",
    "#(iv) **"
   ]
  },
  {
   "cell_type": "code",
   "execution_count": 56,
   "id": "d3f28008-5eed-4bda-94ee-2d95372e1aba",
   "metadata": {},
   "outputs": [],
   "source": [
    "#(i) '/' this is division function, gives quotient in o/p"
   ]
  },
  {
   "cell_type": "code",
   "execution_count": 12,
   "id": "15bd2f12-fa25-457e-8fb7-9cb1b893ec29",
   "metadata": {},
   "outputs": [
    {
     "name": "stdout",
     "output_type": "stream",
     "text": [
      "2.0\n"
     ]
    }
   ],
   "source": [
    "a=10\n",
    "b=5\n",
    "print(a/b)"
   ]
  },
  {
   "cell_type": "code",
   "execution_count": 54,
   "id": "ab3c11cd-90a4-4c80-8337-210eec2267be",
   "metadata": {},
   "outputs": [],
   "source": [
    "#(ii) '%' this gives remainder as a o/p"
   ]
  },
  {
   "cell_type": "code",
   "execution_count": 13,
   "id": "5bc8fb63-6fc4-40e2-884c-356ddc3e7d40",
   "metadata": {},
   "outputs": [
    {
     "name": "stdout",
     "output_type": "stream",
     "text": [
      "9\n"
     ]
    }
   ],
   "source": [
    "a=19\n",
    "b=10\n",
    "print(a%b)"
   ]
  },
  {
   "cell_type": "code",
   "execution_count": 53,
   "id": "1e25b1fd-0211-4e5f-a9f1-3113da0a9b49",
   "metadata": {},
   "outputs": [],
   "source": [
    "#(iii) '//' this a divison floor fucntion, and gives quotient in a integer form"
   ]
  },
  {
   "cell_type": "code",
   "execution_count": 15,
   "id": "42d66cba-fd57-4841-bf8f-1558b5ff6b40",
   "metadata": {},
   "outputs": [
    {
     "name": "stdout",
     "output_type": "stream",
     "text": [
      "2.0\n"
     ]
    }
   ],
   "source": [
    "a=10.1\n",
    "b=5\n",
    "print(a//b)"
   ]
  },
  {
   "cell_type": "code",
   "execution_count": 52,
   "id": "c1f66bfe-d3db-42cd-b03d-bba1125f2d4c",
   "metadata": {},
   "outputs": [],
   "source": [
    "#(iv)'**' this is a power operator, number before ** is base and after is power"
   ]
  },
  {
   "cell_type": "code",
   "execution_count": 16,
   "id": "63d1be11-8891-4e4a-8047-4bb936a6d32b",
   "metadata": {},
   "outputs": [
    {
     "name": "stdout",
     "output_type": "stream",
     "text": [
      "16\n"
     ]
    }
   ],
   "source": [
    "a=4\n",
    "b=2\n",
    "print(a**b)"
   ]
  },
  {
   "cell_type": "code",
   "execution_count": 51,
   "id": "97cd8978-a90f-49a0-86ca-5af7c0b00893",
   "metadata": {},
   "outputs": [],
   "source": [
    "#Q4. Create a list of length 10 of your choice containing multiple types of data. Using for loop print the element and its data type."
   ]
  },
  {
   "cell_type": "code",
   "execution_count": 19,
   "id": "95e41bee-145e-4f13-9db2-b27c2257c1bd",
   "metadata": {},
   "outputs": [
    {
     "name": "stdout",
     "output_type": "stream",
     "text": [
      "<class 'str'>\n",
      "hello None\n",
      "<class 'int'>\n",
      "1 None\n",
      "<class 'int'>\n",
      "2 None\n",
      "<class 'int'>\n",
      "3 None\n",
      "<class 'float'>\n",
      "4.0 None\n",
      "<class 'complex'>\n",
      "(6+5j) None\n",
      "<class 'bool'>\n",
      "True None\n",
      "<class 'str'>\n",
      "pw None\n",
      "<class 'float'>\n",
      "3.9 None\n",
      "<class 'bool'>\n",
      "False None\n"
     ]
    }
   ],
   "source": [
    "m=['hello',1,2,3,4.0,5j+6,True,'pw',3.9,False]\n",
    "for i in m:\n",
    "    print(i,print(type(i)))"
   ]
  },
  {
   "cell_type": "code",
   "execution_count": 49,
   "id": "ea49f1ad-90f6-415d-bce2-53da05742fdc",
   "metadata": {},
   "outputs": [],
   "source": [
    "#Q5. Using a while loop, verify if the number A is purely divisible by number B and if so then how many times it can be divisible."
   ]
  },
  {
   "cell_type": "code",
   "execution_count": 25,
   "id": "9aba9608-aa11-451f-87e7-839975dd38cd",
   "metadata": {},
   "outputs": [
    {
     "name": "stdout",
     "output_type": "stream",
     "text": [
      "a is purely divisible by b and by 6.0 times it can be divisible\n"
     ]
    }
   ],
   "source": [
    "a=30\n",
    "b=5\n",
    "while a%b==0:\n",
    "    print('a is purely divisible by b and by',a/b,'times it can be divisible')\n",
    "    break\n",
    "else:\n",
    "    print('a is not divisible')"
   ]
  },
  {
   "cell_type": "code",
   "execution_count": 48,
   "id": "ebde96d9-e390-46c3-802d-c21770b4064a",
   "metadata": {},
   "outputs": [],
   "source": [
    "#Q6. Create a list containing 25 int type data. Using for loop and if-else condition print if the element is divisible by 3 or not."
   ]
  },
  {
   "cell_type": "code",
   "execution_count": 31,
   "id": "30211d7f-8724-4a30-8eea-78281c3f79fb",
   "metadata": {},
   "outputs": [
    {
     "name": "stdout",
     "output_type": "stream",
     "text": [
      "1 not divisible by 3\n",
      "2 not divisible by 3\n",
      "3 divisible by 3\n",
      "4 not divisible by 3\n",
      "5 not divisible by 3\n",
      "6 divisible by 3\n",
      "7 not divisible by 3\n",
      "8 not divisible by 3\n",
      "9 divisible by 3\n",
      "10 not divisible by 3\n",
      "11 not divisible by 3\n",
      "12 divisible by 3\n",
      "13 not divisible by 3\n",
      "14 not divisible by 3\n",
      "15 divisible by 3\n",
      "16 not divisible by 3\n",
      "17 not divisible by 3\n",
      "18 divisible by 3\n",
      "19 not divisible by 3\n",
      "20 not divisible by 3\n",
      "21 divisible by 3\n",
      "22 not divisible by 3\n",
      "23 not divisible by 3\n",
      "24 divisible by 3\n",
      "25 not divisible by 3\n"
     ]
    }
   ],
   "source": [
    "int_list=[1,2,3,4,5,6,7,8,9,10,11,12,13,14,15,16,17,18,19,20,21,22,23,24,25]\n",
    "for i in int_list:\n",
    "    if i%3==0:\n",
    "        print(i,'divisible by 3')\n",
    "    else:\n",
    "        print(i,'not divisible by 3')"
   ]
  },
  {
   "cell_type": "code",
   "execution_count": 45,
   "id": "2097602e-eb93-4417-b11c-76493591a6e4",
   "metadata": {},
   "outputs": [],
   "source": [
    "#Q7. What do you understand about mutable and immutable data types? Give examples for both showing this property."
   ]
  },
  {
   "cell_type": "code",
   "execution_count": 44,
   "id": "9c4e3da1-2947-4f8b-b67d-b6537ce52ea3",
   "metadata": {},
   "outputs": [],
   "source": [
    "#Mutuble data type is when we can replace, remove or add a value form given list with another one, means data can be editted"
   ]
  },
  {
   "cell_type": "code",
   "execution_count": 32,
   "id": "1a469071-b1b2-49fb-b85e-dbc085ef7842",
   "metadata": {},
   "outputs": [],
   "source": [
    "f=[1,2,3,4,'simar']"
   ]
  },
  {
   "cell_type": "code",
   "execution_count": 34,
   "id": "234726ae-3e58-422f-a8be-8011e5e3822d",
   "metadata": {},
   "outputs": [
    {
     "data": {
      "text/plain": [
       "list"
      ]
     },
     "execution_count": 34,
     "metadata": {},
     "output_type": "execute_result"
    }
   ],
   "source": [
    "type(f)"
   ]
  },
  {
   "cell_type": "code",
   "execution_count": 36,
   "id": "9876811f-48fb-4dc0-8a87-a71e38bd5140",
   "metadata": {},
   "outputs": [],
   "source": [
    "f[4]=True"
   ]
  },
  {
   "cell_type": "code",
   "execution_count": 37,
   "id": "a1fe55e6-69d6-4c3f-a336-d2972680265b",
   "metadata": {},
   "outputs": [
    {
     "name": "stdout",
     "output_type": "stream",
     "text": [
      "[1, 2, 3, 4, True]\n"
     ]
    }
   ],
   "source": [
    "print(f)"
   ]
  },
  {
   "cell_type": "code",
   "execution_count": 46,
   "id": "e10f3722-1308-4a04-bee9-cb458a337f84",
   "metadata": {},
   "outputs": [],
   "source": [
    "#here 'simar' str is replaced with new assigned 4th number with a bool, means we can edit data"
   ]
  },
  {
   "cell_type": "code",
   "execution_count": 47,
   "id": "dcd5537a-f224-46c1-8778-876bffa7f0e8",
   "metadata": {},
   "outputs": [],
   "source": [
    "#Immutable data type is when we cannot do any editing to the data set, for example: in this following str we cannot replace 1st charater"
   ]
  },
  {
   "cell_type": "code",
   "execution_count": 38,
   "id": "e4c927d3-1fb9-46da-bea0-5914bf9bce16",
   "metadata": {},
   "outputs": [],
   "source": [
    "z=\"tress\""
   ]
  },
  {
   "cell_type": "code",
   "execution_count": 39,
   "id": "c1f6ad02-c608-4426-aad1-7d347144b38b",
   "metadata": {},
   "outputs": [
    {
     "data": {
      "text/plain": [
       "'t'"
      ]
     },
     "execution_count": 39,
     "metadata": {},
     "output_type": "execute_result"
    }
   ],
   "source": [
    "z[0]"
   ]
  },
  {
   "cell_type": "code",
   "execution_count": 40,
   "id": "d7c27e59-e63d-4e63-9712-afdcacd583c0",
   "metadata": {},
   "outputs": [
    {
     "ename": "NameError",
     "evalue": "name 'p' is not defined",
     "output_type": "error",
     "traceback": [
      "\u001b[0;31m---------------------------------------------------------------------------\u001b[0m",
      "\u001b[0;31mNameError\u001b[0m                                 Traceback (most recent call last)",
      "Cell \u001b[0;32mIn[40], line 1\u001b[0m\n\u001b[0;32m----> 1\u001b[0m z[\u001b[38;5;241m0\u001b[39m]\u001b[38;5;241m=\u001b[39m\u001b[43mp\u001b[49m\n",
      "\u001b[0;31mNameError\u001b[0m: name 'p' is not defined"
     ]
    }
   ],
   "source": [
    "z[0]=p"
   ]
  },
  {
   "cell_type": "code",
   "execution_count": null,
   "id": "b4fff97c-cd24-4d88-8be8-5dbe0a7a6cab",
   "metadata": {},
   "outputs": [],
   "source": []
  }
 ],
 "metadata": {
  "kernelspec": {
   "display_name": "Python 3 (ipykernel)",
   "language": "python",
   "name": "python3"
  },
  "language_info": {
   "codemirror_mode": {
    "name": "ipython",
    "version": 3
   },
   "file_extension": ".py",
   "mimetype": "text/x-python",
   "name": "python",
   "nbconvert_exporter": "python",
   "pygments_lexer": "ipython3",
   "version": "3.10.8"
  }
 },
 "nbformat": 4,
 "nbformat_minor": 5
}
